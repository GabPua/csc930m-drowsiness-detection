{
  "nbformat": 4,
  "nbformat_minor": 0,
  "metadata": {
    "colab": {
      "provenance": []
    },
    "kernelspec": {
      "name": "python3",
      "display_name": "Python 3"
    },
    "language_info": {
      "name": "python"
    },
    "accelerator": "GPU",
    "gpuClass": "standard"
  },
  "cells": [
    {
      "cell_type": "markdown",
      "source": [
        "# Drowsiness Detection Model Training"
      ],
      "metadata": {
        "id": "1hbq_tn7aiAU"
      }
    },
    {
      "cell_type": "code",
      "execution_count": null,
      "metadata": {
        "id": "CiX0T-fjv3Lf",
        "colab": {
          "base_uri": "https://localhost:8080/"
        },
        "outputId": "b6846e2b-9f52-41b6-a8b0-2724a9c20f4b"
      },
      "outputs": [
        {
          "output_type": "stream",
          "name": "stdout",
          "text": [
            "gpu\n"
          ]
        }
      ],
      "source": [
        "import numpy as np\n",
        "import matplotlib.pyplot as plt\n",
        "import pandas as pd\n",
        "import torch\n",
        "import torch.nn as nn\n",
        "from torch.autograd import Variable\n",
        "from sklearn.preprocessing import MinMaxScaler\n",
        "from sklearn.utils import shuffle\n",
        "import random\n",
        "import os\n",
        "\n",
        "from tqdm import tqdm\n",
        "\n",
        "if torch.cuda.is_available():\n",
        "  device = torch.device(\"cuda:0\")\n",
        "  print(\"gpu\")\n",
        "else:\n",
        "  device = torch.device(\"cpu\")"
      ]
    },
    {
      "cell_type": "markdown",
      "source": [
        "## Load Extracted Features and Perform Preprocessing"
      ],
      "metadata": {
        "id": "lb0SLdZqan79"
      }
    },
    {
      "cell_type": "code",
      "source": [
        "from google.colab import drive\n",
        "drive.mount('/content/drive')\n",
        "\n",
        "# load features\n",
        "root = \"/content/drive/My Drive/Drowsiness Detection/Features/\"\n",
        "maxlen = 1500\n",
        "\n",
        "sc = MinMaxScaler()\n",
        "\n",
        "X = [] # shape - (5, 90, 500, 6)\n",
        "y = [] # shape - (5, 90)\n",
        "for person in range(1, 6):\n",
        "    videos = []\n",
        "    y_temp = []\n",
        "    for mode in range(3):\n",
        "        folder = []\n",
        "        for video in range(10):\n",
        "            df = pd.read_csv(root + '/0' + str(person) + '/' + str(mode) + '/' + str(video) + '.csv', index_col=False, header=None)\n",
        "\n",
        "            # remove nans\n",
        "            # df.interpolate(method='linear', axis=0, inplace=True, limit_direction='both') # linear\n",
        "            df.interpolate(method='spline', order=3, axis=0, inplace=True, limit_direction='both') # cubic spline\n",
        "\n",
        "            # get distance of pupils\n",
        "            df[[3, 4, 5, 6]] = df[[3, 4, 5, 6]].diff()\n",
        "            df.iloc[0,3:7] = 0\n",
        "            df[[3, 4, 5, 6]] = df[[3, 4, 5, 6]] ** 2\n",
        "            df[8] = np.sqrt(df[3] + df[4])\n",
        "            df[9] = np.sqrt(df[5] + df[6])\n",
        "            df.drop(columns=[3, 4, 5, 6], inplace=True)\n",
        "\n",
        "            temp = df.to_numpy() # feature vector is [left eye angle, right eye angle, mouth angle, head pitch angle, left pupil distance, right pupil distance]\n",
        "            if temp.shape[0] > maxlen:\n",
        "                temp = temp[:maxlen]\n",
        "            else:\n",
        "                temp = np.pad(temp, ((0, maxlen - temp.shape[0]), (0, 0)), mode='constant')\n",
        "            \n",
        "            folder.extend(temp)\n",
        "            for _ in range(3):\n",
        "                y_temp.append(mode)\n",
        "        # normalize features for each folder\n",
        "        folder = np.array(folder)\n",
        "        folder = sc.fit_transform(folder)\n",
        "\n",
        "        # split each video into 3\n",
        "        for video in range(30):\n",
        "            videos.append(folder[video * maxlen // 3: (video + 1) * maxlen // 3])\n",
        "        \n",
        "    X.append(np.array(videos))\n",
        "    y.append(np.array(y_temp))\n",
        "X = np.array(X)\n",
        "y = np.array(y)\n",
        "\n",
        "print(X.shape)\n",
        "print(y.shape)"
      ],
      "metadata": {
        "colab": {
          "base_uri": "https://localhost:8080/"
        },
        "id": "zKpO4Yei4MUh",
        "outputId": "b045dfb3-652d-426c-84ce-10ef9f5ae323"
      },
      "execution_count": null,
      "outputs": [
        {
          "output_type": "stream",
          "name": "stdout",
          "text": [
            "Mounted at /content/drive\n",
            "(5, 90, 500, 6)\n",
            "(5, 90)\n"
          ]
        }
      ]
    },
    {
      "cell_type": "markdown",
      "source": [
        "## Custom LSTM/BiLSTM Class"
      ],
      "metadata": {
        "id": "4cUDSxTMbdIl"
      }
    },
    {
      "cell_type": "code",
      "source": [
        "class LSTM(nn.Module):\n",
        "\n",
        "    def __init__(self, num_classes, input_size, hidden_size, num_layers, bidirectional):\n",
        "        super(LSTM, self).__init__()\n",
        "        \n",
        "        self.num_classes = num_classes\n",
        "        self.num_layers = num_layers\n",
        "        self.input_size = input_size\n",
        "        self.hidden_size = hidden_size\n",
        "        self.seq_length = maxlen // 3\n",
        "        self.bidirectional = bidirectional\n",
        "        D = 2 if self.bidirectional else 1\n",
        "        \n",
        "        self.lstm = nn.LSTM(input_size=input_size, hidden_size=hidden_size,\n",
        "                            num_layers=num_layers, batch_first=True, bidirectional=bidirectional)\n",
        "        self.dropout = nn.Dropout(0.25)\n",
        "        \n",
        "        self.fc = nn.Linear(D * hidden_size, num_classes)\n",
        "\n",
        "    def forward(self, x):\n",
        "        D = 2 if self.bidirectional else 1\n",
        "        h_0 = Variable(torch.zeros(\n",
        "            D * self.num_layers, x.size(0), self.hidden_size)).to(device)\n",
        "        \n",
        "        c_0 = Variable(torch.zeros(\n",
        "            D * self.num_layers, x.size(0), self.hidden_size)).to(device)\n",
        "        \n",
        "        # Propagate input through LSTM\n",
        "\n",
        "        if self.bidirectional:\n",
        "            h_out, _ = self.lstm(x, (h_0, c_0))\n",
        "            out = self.fc(h_out[:, -1, :])\n",
        "            return out\n",
        "        \n",
        "        ula, (h_out, _) = self.lstm(x, (h_0, c_0))\n",
        "        h_out = h_out.view(-1, self.hidden_size)\n",
        "\n",
        "        out = self.fc(h_out)\n",
        "        \n",
        "        return out"
      ],
      "metadata": {
        "id": "fmncPIdUBtKf"
      },
      "execution_count": null,
      "outputs": []
    },
    {
      "cell_type": "markdown",
      "source": [
        "## Model Training"
      ],
      "metadata": {
        "id": "UEK-6ApIbpXB"
      }
    },
    {
      "cell_type": "code",
      "source": [
        "num_epochs = 2000\n",
        "learning_rate = 0.005\n",
        "\n",
        "input_size = 6\n",
        "hidden_size = 128\n",
        "num_layers = 1\n",
        "num_classes = 3\n",
        "device = torch.device('cuda')\n",
        "\n",
        "def accuracy(outputs, y):\n",
        "    preds = torch.max(outputs, 1)[1]\n",
        "    return torch.sum(preds == y) / y.size(0)\n",
        "\n",
        "def per_class_accuracy(outputs, y, num_classes):\n",
        "    preds = torch.max(outputs, 1)[1]\n",
        "    acc = [0 for _ in range(num_classes)]\n",
        "    for c in range(num_classes):\n",
        "        acc[c] = ((preds == y) * (y == c)).float().sum() / max((y == c).sum(), 1)\n",
        "    return acc\n",
        "\n",
        "def train_model(bidirectional, verbose, features=[0, 1, 2, 3, 4, 5]):\n",
        "    # set seeds\n",
        "    seed = 42\n",
        "    random.seed(seed)\n",
        "    os.environ['PYTHONHASHSEED'] = str(seed)\n",
        "    np.random.seed(seed)\n",
        "    torch.manual_seed(seed)\n",
        "    torch.cuda.manual_seed(seed)\n",
        "    torch.backends.cudnn.deterministic = True\n",
        "\n",
        "    total_acc = 0\n",
        "    total_acc_per_class = [0 for _ in range(3)]\n",
        "    for i in range(5):\n",
        "        X_train = np.empty([0, maxlen // 3, 6])\n",
        "        y_train = np.empty([0])\n",
        "        X_test = np.empty([0, maxlen // 3, 6])\n",
        "        y_test = np.empty([0])\n",
        "        for person in range(5):\n",
        "            for mode in range(3):\n",
        "                for video in range(10):\n",
        "                    if video >= 2 * i and video < 2 * (i + 1):\n",
        "                        X_test = np.concatenate((X_test, X[person][mode * 30 + 3 * video:mode * 30 + 3 * (video + 1)]))\n",
        "                        y_test = np.concatenate((y_test, y[person][mode * 30 + 3 * video:mode * 30 + 3 * (video + 1)]))\n",
        "                    else:\n",
        "                        X_train = np.concatenate((X_train, X[person][mode * 30 + 3 * video:mode * 30 + 3 * (video + 1)]))\n",
        "                        y_train = np.concatenate((y_train, y[person][mode * 30 + 3 * video:mode * 30 + 3 * (video + 1)]))\n",
        "        X_train, y_train = shuffle(X_train, y_train)\n",
        "        X_test, y_test = shuffle(X_test, y_test)\n",
        "\n",
        "        X_train = X_train[:, :, features]\n",
        "        X_test = X_test[:, :, features]\n",
        "\n",
        "        X_train = Variable(torch.Tensor(X_train)).to(device)\n",
        "        y_train = Variable(torch.LongTensor(y_train)).to(device)\n",
        "        X_test = Variable(torch.Tensor(X_test)).to(device)\n",
        "        y_test = Variable(torch.LongTensor(y_test)).to(device)\n",
        "\n",
        "        lstm = LSTM(num_classes, len(features), hidden_size, num_layers, bidirectional).to(device)\n",
        "\n",
        "        criterion = torch.nn.CrossEntropyLoss()\n",
        "        optimizer = torch.optim.Adam(lstm.parameters(), lr=learning_rate)\n",
        "        #optimizer = torch.optim.SGD(lstm.parameters(), lr=learning_rate)\n",
        "\n",
        "        # Train the model\n",
        "        print('----------------------TRAINING FOLD %d----------------------' % (i + 1))\n",
        "        for epoch in tqdm(range(num_epochs)):\n",
        "            outputs = lstm(X_train)\n",
        "            optimizer.zero_grad()\n",
        "            \n",
        "            # obtain the loss function\n",
        "            loss = criterion(outputs, y_train)\n",
        "            \n",
        "            loss.backward()\n",
        "            \n",
        "            optimizer.step()\n",
        "            if verbose and epoch > 0 and epoch % 100 == 0:\n",
        "                print(\"Epoch: %d, loss: %1.5f, accuracy: %2.5f%%\" % (epoch, loss.item(), accuracy(outputs, y_train) * 100))\n",
        "            \n",
        "        \n",
        "        test_outputs = lstm(X_test)\n",
        "        test_loss = criterion(test_outputs, y_test)\n",
        "        test_acc = accuracy(test_outputs, y_test) * 100\n",
        "        test_acc_per_class = per_class_accuracy(test_outputs, y_test, 3)\n",
        "        print('RESULTS FOR FOLD %d' % (i + 1))\n",
        "        print('Test Loss: %1.5f, Test Accuracy: %2.5f%%' % (test_loss.item(), test_acc))\n",
        "        print('Accuracy per Class')\n",
        "        for i, c in enumerate(['Alert', 'Low Vigilant', 'Drowsy']):\n",
        "            print('%s: %2.5f%%' % (c, test_acc_per_class[i] * 100))\n",
        "            total_acc_per_class[i] += test_acc_per_class[i] * 20\n",
        "        total_acc += test_acc / 5\n",
        "\n",
        "    print('Total Accuracy: %2.5f%%' % (total_acc))\n",
        "    print('Accuracy per Class')\n",
        "    for i, c in enumerate(['Alert', 'Low Vigilant', 'Drowsy']):\n",
        "        print('%s: %2.5f%%' % (c, total_acc_per_class[i]))"
      ],
      "metadata": {
        "id": "ur9jkWGtHcVf"
      },
      "execution_count": null,
      "outputs": []
    },
    {
      "cell_type": "markdown",
      "source": [
        "### Using LSTM"
      ],
      "metadata": {
        "id": "CMj6f1wVbt5Q"
      }
    },
    {
      "cell_type": "code",
      "source": [
        "# lstm\n",
        "train_model(bidirectional=False, features=[0, 1, 2, 3, 4, 5], verbose=False)"
      ],
      "metadata": {
        "colab": {
          "base_uri": "https://localhost:8080/"
        },
        "id": "OpMddEeW797-",
        "outputId": "a76bbce1-e68e-4d8e-a5a6-49c0d52c51c5"
      },
      "execution_count": null,
      "outputs": [
        {
          "output_type": "stream",
          "name": "stdout",
          "text": [
            "----------------------TRAINING FOLD 1----------------------\n"
          ]
        },
        {
          "output_type": "stream",
          "name": "stderr",
          "text": [
            "100%|██████████| 2000/2000 [02:03<00:00, 16.21it/s]\n"
          ]
        },
        {
          "output_type": "stream",
          "name": "stdout",
          "text": [
            "RESULTS FOR FOLD 1\n",
            "Test Loss: 0.80398, Test Accuracy: 64.44444%\n",
            "Accuracy per Class\n",
            "Alert: 43.33333%\n",
            "Low Vigilant: 53.33334%\n",
            "Drowsy: 96.66666%\n",
            "----------------------TRAINING FOLD 2----------------------\n"
          ]
        },
        {
          "output_type": "stream",
          "name": "stderr",
          "text": [
            "100%|██████████| 2000/2000 [02:01<00:00, 16.40it/s]\n"
          ]
        },
        {
          "output_type": "stream",
          "name": "stdout",
          "text": [
            "RESULTS FOR FOLD 2\n",
            "Test Loss: 0.35743, Test Accuracy: 83.33334%\n",
            "Accuracy per Class\n",
            "Alert: 100.00000%\n",
            "Low Vigilant: 53.33334%\n",
            "Drowsy: 96.66666%\n",
            "----------------------TRAINING FOLD 3----------------------\n"
          ]
        },
        {
          "output_type": "stream",
          "name": "stderr",
          "text": [
            "100%|██████████| 2000/2000 [02:01<00:00, 16.42it/s]\n"
          ]
        },
        {
          "output_type": "stream",
          "name": "stdout",
          "text": [
            "RESULTS FOR FOLD 3\n",
            "Test Loss: 0.35865, Test Accuracy: 85.55556%\n",
            "Accuracy per Class\n",
            "Alert: 90.00000%\n",
            "Low Vigilant: 70.00000%\n",
            "Drowsy: 96.66666%\n",
            "----------------------TRAINING FOLD 4----------------------\n"
          ]
        },
        {
          "output_type": "stream",
          "name": "stderr",
          "text": [
            "100%|██████████| 2000/2000 [02:01<00:00, 16.45it/s]\n"
          ]
        },
        {
          "output_type": "stream",
          "name": "stdout",
          "text": [
            "RESULTS FOR FOLD 4\n",
            "Test Loss: 0.95504, Test Accuracy: 46.66667%\n",
            "Accuracy per Class\n",
            "Alert: 36.66667%\n",
            "Low Vigilant: 40.00000%\n",
            "Drowsy: 63.33333%\n",
            "----------------------TRAINING FOLD 5----------------------\n"
          ]
        },
        {
          "output_type": "stream",
          "name": "stderr",
          "text": [
            "100%|██████████| 2000/2000 [02:01<00:00, 16.45it/s]\n"
          ]
        },
        {
          "output_type": "stream",
          "name": "stdout",
          "text": [
            "RESULTS FOR FOLD 5\n",
            "Test Loss: 0.69886, Test Accuracy: 68.88889%\n",
            "Accuracy per Class\n",
            "Alert: 53.33334%\n",
            "Low Vigilant: 76.66666%\n",
            "Drowsy: 76.66666%\n",
            "Total Accuracy: 69.77779%\n",
            "Accuracy per Class\n",
            "Alert: 64.66666%\n",
            "Low Vigilant: 58.66667%\n",
            "Drowsy: 86.00000%\n"
          ]
        }
      ]
    },
    {
      "cell_type": "markdown",
      "source": [
        "### Using BiLSTM"
      ],
      "metadata": {
        "id": "nNjjJMDpbwVo"
      }
    },
    {
      "cell_type": "code",
      "source": [
        "# bilstm\n",
        "train_model(bidirectional=True, features=[0, 1, 2, 3, 4, 5], verbose=False)"
      ],
      "metadata": {
        "colab": {
          "base_uri": "https://localhost:8080/"
        },
        "id": "UR_7hf2H7_uD",
        "outputId": "e7d5e29f-08e4-49ea-8fdd-5bd4ef4193fd"
      },
      "execution_count": null,
      "outputs": [
        {
          "output_type": "stream",
          "name": "stdout",
          "text": [
            "----------------------TRAINING FOLD 1----------------------\n"
          ]
        },
        {
          "output_type": "stream",
          "name": "stderr",
          "text": [
            "100%|██████████| 2000/2000 [04:20<00:00,  7.68it/s]\n"
          ]
        },
        {
          "output_type": "stream",
          "name": "stdout",
          "text": [
            "RESULTS FOR FOLD 1\n",
            "Test Loss: 0.63273, Test Accuracy: 84.44444%\n",
            "Accuracy per Class\n",
            "Alert: 80.00000%\n",
            "Low Vigilant: 80.00000%\n",
            "Drowsy: 93.33334%\n",
            "----------------------TRAINING FOLD 2----------------------\n"
          ]
        },
        {
          "output_type": "stream",
          "name": "stderr",
          "text": [
            "100%|██████████| 2000/2000 [04:19<00:00,  7.69it/s]\n"
          ]
        },
        {
          "output_type": "stream",
          "name": "stdout",
          "text": [
            "RESULTS FOR FOLD 2\n",
            "Test Loss: 0.40216, Test Accuracy: 81.11111%\n",
            "Accuracy per Class\n",
            "Alert: 80.00000%\n",
            "Low Vigilant: 80.00000%\n",
            "Drowsy: 83.33333%\n",
            "----------------------TRAINING FOLD 3----------------------\n"
          ]
        },
        {
          "output_type": "stream",
          "name": "stderr",
          "text": [
            "100%|██████████| 2000/2000 [04:19<00:00,  7.70it/s]\n"
          ]
        },
        {
          "output_type": "stream",
          "name": "stdout",
          "text": [
            "RESULTS FOR FOLD 3\n",
            "Test Loss: 0.32726, Test Accuracy: 91.11111%\n",
            "Accuracy per Class\n",
            "Alert: 100.00000%\n",
            "Low Vigilant: 86.66666%\n",
            "Drowsy: 86.66666%\n",
            "----------------------TRAINING FOLD 4----------------------\n"
          ]
        },
        {
          "output_type": "stream",
          "name": "stderr",
          "text": [
            "100%|██████████| 2000/2000 [04:20<00:00,  7.68it/s]\n"
          ]
        },
        {
          "output_type": "stream",
          "name": "stdout",
          "text": [
            "RESULTS FOR FOLD 4\n",
            "Test Loss: 0.23892, Test Accuracy: 92.22223%\n",
            "Accuracy per Class\n",
            "Alert: 93.33334%\n",
            "Low Vigilant: 93.33334%\n",
            "Drowsy: 90.00000%\n",
            "----------------------TRAINING FOLD 5----------------------\n"
          ]
        },
        {
          "output_type": "stream",
          "name": "stderr",
          "text": [
            "100%|██████████| 2000/2000 [04:20<00:00,  7.69it/s]\n"
          ]
        },
        {
          "output_type": "stream",
          "name": "stdout",
          "text": [
            "RESULTS FOR FOLD 5\n",
            "Test Loss: 0.48148, Test Accuracy: 84.44444%\n",
            "Accuracy per Class\n",
            "Alert: 93.33334%\n",
            "Low Vigilant: 83.33333%\n",
            "Drowsy: 76.66666%\n",
            "Total Accuracy: 86.66667%\n",
            "Accuracy per Class\n",
            "Alert: 89.33333%\n",
            "Low Vigilant: 84.66666%\n",
            "Drowsy: 86.00000%\n"
          ]
        }
      ]
    }
  ]
}